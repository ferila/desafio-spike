{
 "metadata": {
  "language_info": {
   "codemirror_mode": {
    "name": "ipython",
    "version": 3
   },
   "file_extension": ".py",
   "mimetype": "text/x-python",
   "name": "python",
   "nbconvert_exporter": "python",
   "pygments_lexer": "ipython3",
   "version": "3.6.10-final"
  },
  "orig_nbformat": 2,
  "kernelspec": {
   "name": "python_defaultSpec_1601141016635",
   "display_name": "Python 3.6.10 64-bit"
  }
 },
 "nbformat": 4,
 "nbformat_minor": 2,
 "cells": [
  {
   "cell_type": "code",
   "execution_count": 2,
   "metadata": {},
   "outputs": [],
   "source": [
    "import pandas as pd\n",
    "\n",
    "data_folder = \"D:\\\\repos\\\\desafio-spike-data\""
   ]
  },
  {
   "cell_type": "code",
   "execution_count": 3,
   "metadata": {},
   "outputs": [],
   "source": [
    "base = pd.read_csv(os.path.join(data_folder, \"base_para_prediccion.csv\"))\n",
    "cmg_prod = pd.read_csv(os.path.join(data_folder, \"costo_marginal_programado.csv\"))\n",
    "cmg_real = pd.read_csv(os.path.join(data_folder, \"costo_marginal_real.csv\"))\n",
    "dem = pd.read_csv(os.path.join(data_folder, \"demanda_real.csv\"))"
   ]
  },
  {
   "cell_type": "code",
   "execution_count": 10,
   "metadata": {},
   "outputs": [
    {
     "output_type": "execute_result",
     "data": {
      "text/plain": "nemotecnico_se                   0\nfecha                            0\nhora                             0\ngen_eolica_total_mwh        112779\ngen_geotermica_total_mwh    112779\ngen_hidraulica_total_mwh     78595\ngen_solar_total_mwh          70961\ngen_termica_total_mwh        50916\ncmg_real                         0\ncmg_prog                         0\ncmg_desv                         0\ncmg_desv_pct                     0\nn_barras                         0\ndemanda_mwh                      0\ncap_inst_mw                      0\ndtype: int64"
     },
     "metadata": {},
     "execution_count": 10
    }
   ],
   "source": [
    "base.isnull().sum(axis=0)"
   ]
  },
  {
   "cell_type": "code",
   "execution_count": 11,
   "metadata": {},
   "outputs": [
    {
     "output_type": "execute_result",
     "data": {
      "text/plain": "                hora  gen_eolica_total_mwh  gen_geotermica_total_mwh  \\\ncount  112779.000000                   0.0                       0.0   \nmean       12.502993                   NaN                       NaN   \nstd         6.924090                   NaN                       NaN   \nmin         1.000000                   NaN                       NaN   \n25%         7.000000                   NaN                       NaN   \n50%        13.000000                   NaN                       NaN   \n75%        19.000000                   NaN                       NaN   \nmax        25.000000                   NaN                       NaN   \n\n       gen_hidraulica_total_mwh  gen_solar_total_mwh  gen_termica_total_mwh  \\\ncount              34184.000000         41818.000000           61863.000000   \nmean                  38.120053             3.764987              40.583146   \nstd                   69.838109            12.904388             101.083396   \nmin                    0.000000             0.000000               0.000000   \n25%                    0.849787             0.000000               0.000000   \n50%                    9.600000             0.000000               0.000000   \n75%                   40.000000             1.571022              15.960000   \nmax                  472.000000            86.050000             570.600800   \n\n            cmg_real       cmg_prog       cmg_desv  cmg_desv_pct  \\\ncount  112779.000000  112779.000000  112779.000000     112779.00   \nmean       61.170058      62.215400      -1.045338           inf   \nstd        25.414147      25.307759      24.711575           NaN   \nmin         0.000000      -1.713131    -562.470000      -3403.97   \n25%        49.130000      49.906745      -3.790000         -7.07   \n50%        54.610000      55.420601      -0.310000         -0.58   \n75%        63.500000      64.701951       1.670000          2.92   \nmax       240.360000     610.600000     175.020000           inf   \n\n            n_barras   demanda_mwh    cap_inst_mw  \ncount  112779.000000  1.127790e+05  112779.000000  \nmean        2.331844  6.357056e+07     128.719565  \nstd         1.304096  3.948683e+08     167.948649  \nmin         1.000000 -9.821095e+09       2.989800  \n25%         1.000000  7.464800e+05      18.420000  \n50%         2.000000  4.507282e+06      51.850000  \n75%         3.000000  1.332345e+07     184.685500  \nmax         6.000000  1.004240e+10     597.782800  ",
      "text/html": "<div>\n<style scoped>\n    .dataframe tbody tr th:only-of-type {\n        vertical-align: middle;\n    }\n\n    .dataframe tbody tr th {\n        vertical-align: top;\n    }\n\n    .dataframe thead th {\n        text-align: right;\n    }\n</style>\n<table border=\"1\" class=\"dataframe\">\n  <thead>\n    <tr style=\"text-align: right;\">\n      <th></th>\n      <th>hora</th>\n      <th>gen_eolica_total_mwh</th>\n      <th>gen_geotermica_total_mwh</th>\n      <th>gen_hidraulica_total_mwh</th>\n      <th>gen_solar_total_mwh</th>\n      <th>gen_termica_total_mwh</th>\n      <th>cmg_real</th>\n      <th>cmg_prog</th>\n      <th>cmg_desv</th>\n      <th>cmg_desv_pct</th>\n      <th>n_barras</th>\n      <th>demanda_mwh</th>\n      <th>cap_inst_mw</th>\n    </tr>\n  </thead>\n  <tbody>\n    <tr>\n      <th>count</th>\n      <td>112779.000000</td>\n      <td>0.0</td>\n      <td>0.0</td>\n      <td>34184.000000</td>\n      <td>41818.000000</td>\n      <td>61863.000000</td>\n      <td>112779.000000</td>\n      <td>112779.000000</td>\n      <td>112779.000000</td>\n      <td>112779.00</td>\n      <td>112779.000000</td>\n      <td>1.127790e+05</td>\n      <td>112779.000000</td>\n    </tr>\n    <tr>\n      <th>mean</th>\n      <td>12.502993</td>\n      <td>NaN</td>\n      <td>NaN</td>\n      <td>38.120053</td>\n      <td>3.764987</td>\n      <td>40.583146</td>\n      <td>61.170058</td>\n      <td>62.215400</td>\n      <td>-1.045338</td>\n      <td>inf</td>\n      <td>2.331844</td>\n      <td>6.357056e+07</td>\n      <td>128.719565</td>\n    </tr>\n    <tr>\n      <th>std</th>\n      <td>6.924090</td>\n      <td>NaN</td>\n      <td>NaN</td>\n      <td>69.838109</td>\n      <td>12.904388</td>\n      <td>101.083396</td>\n      <td>25.414147</td>\n      <td>25.307759</td>\n      <td>24.711575</td>\n      <td>NaN</td>\n      <td>1.304096</td>\n      <td>3.948683e+08</td>\n      <td>167.948649</td>\n    </tr>\n    <tr>\n      <th>min</th>\n      <td>1.000000</td>\n      <td>NaN</td>\n      <td>NaN</td>\n      <td>0.000000</td>\n      <td>0.000000</td>\n      <td>0.000000</td>\n      <td>0.000000</td>\n      <td>-1.713131</td>\n      <td>-562.470000</td>\n      <td>-3403.97</td>\n      <td>1.000000</td>\n      <td>-9.821095e+09</td>\n      <td>2.989800</td>\n    </tr>\n    <tr>\n      <th>25%</th>\n      <td>7.000000</td>\n      <td>NaN</td>\n      <td>NaN</td>\n      <td>0.849787</td>\n      <td>0.000000</td>\n      <td>0.000000</td>\n      <td>49.130000</td>\n      <td>49.906745</td>\n      <td>-3.790000</td>\n      <td>-7.07</td>\n      <td>1.000000</td>\n      <td>7.464800e+05</td>\n      <td>18.420000</td>\n    </tr>\n    <tr>\n      <th>50%</th>\n      <td>13.000000</td>\n      <td>NaN</td>\n      <td>NaN</td>\n      <td>9.600000</td>\n      <td>0.000000</td>\n      <td>0.000000</td>\n      <td>54.610000</td>\n      <td>55.420601</td>\n      <td>-0.310000</td>\n      <td>-0.58</td>\n      <td>2.000000</td>\n      <td>4.507282e+06</td>\n      <td>51.850000</td>\n    </tr>\n    <tr>\n      <th>75%</th>\n      <td>19.000000</td>\n      <td>NaN</td>\n      <td>NaN</td>\n      <td>40.000000</td>\n      <td>1.571022</td>\n      <td>15.960000</td>\n      <td>63.500000</td>\n      <td>64.701951</td>\n      <td>1.670000</td>\n      <td>2.92</td>\n      <td>3.000000</td>\n      <td>1.332345e+07</td>\n      <td>184.685500</td>\n    </tr>\n    <tr>\n      <th>max</th>\n      <td>25.000000</td>\n      <td>NaN</td>\n      <td>NaN</td>\n      <td>472.000000</td>\n      <td>86.050000</td>\n      <td>570.600800</td>\n      <td>240.360000</td>\n      <td>610.600000</td>\n      <td>175.020000</td>\n      <td>inf</td>\n      <td>6.000000</td>\n      <td>1.004240e+10</td>\n      <td>597.782800</td>\n    </tr>\n  </tbody>\n</table>\n</div>"
     },
     "metadata": {},
     "execution_count": 11
    }
   ],
   "source": [
    "base.describe()"
   ]
  },
  {
   "cell_type": "code",
   "execution_count": 14,
   "metadata": {},
   "outputs": [
    {
     "output_type": "execute_result",
     "data": {
      "text/plain": "  nemotecnico_se                    fecha  hora  gen_eolica_total_mwh  \\\n0      SE031G216  2019-01-04 00:00:00 UTC     1                   NaN   \n1      SE031G216  2019-01-04 00:00:00 UTC     2                   NaN   \n2      SE031G216  2019-01-04 00:00:00 UTC     3                   NaN   \n3      SE031G216  2019-01-04 00:00:00 UTC     4                   NaN   \n4      SE031G216  2019-01-04 00:00:00 UTC     5                   NaN   \n\n   gen_geotermica_total_mwh  gen_hidraulica_total_mwh  gen_solar_total_mwh  \\\n0                       NaN                       NaN                  NaN   \n1                       NaN                       NaN                  NaN   \n2                       NaN                       NaN                  NaN   \n3                       NaN                       NaN                  NaN   \n4                       NaN                       NaN                  NaN   \n\n   gen_termica_total_mwh  cmg_real    cmg_prog  cmg_desv  cmg_desv_pct  \\\n0                    0.0      56.2   55.627852      0.57          1.02   \n1                    0.0      56.2   55.376645      0.82          1.48   \n2                    0.0      56.2   59.531891     -3.33         -5.59   \n3                    0.0      56.2  174.378923   -118.18        -67.77   \n4                    0.0      56.2  172.820310   -116.62        -67.48   \n\n   n_barras  demanda_mwh  cap_inst_mw  \n0         2      1210767     13.20785  \n1         2       113232     13.20785  \n2         2      1089415     13.20785  \n3         2      1096867     13.20785  \n4         2      1071851     13.20785  ",
      "text/html": "<div>\n<style scoped>\n    .dataframe tbody tr th:only-of-type {\n        vertical-align: middle;\n    }\n\n    .dataframe tbody tr th {\n        vertical-align: top;\n    }\n\n    .dataframe thead th {\n        text-align: right;\n    }\n</style>\n<table border=\"1\" class=\"dataframe\">\n  <thead>\n    <tr style=\"text-align: right;\">\n      <th></th>\n      <th>nemotecnico_se</th>\n      <th>fecha</th>\n      <th>hora</th>\n      <th>gen_eolica_total_mwh</th>\n      <th>gen_geotermica_total_mwh</th>\n      <th>gen_hidraulica_total_mwh</th>\n      <th>gen_solar_total_mwh</th>\n      <th>gen_termica_total_mwh</th>\n      <th>cmg_real</th>\n      <th>cmg_prog</th>\n      <th>cmg_desv</th>\n      <th>cmg_desv_pct</th>\n      <th>n_barras</th>\n      <th>demanda_mwh</th>\n      <th>cap_inst_mw</th>\n    </tr>\n  </thead>\n  <tbody>\n    <tr>\n      <th>0</th>\n      <td>SE031G216</td>\n      <td>2019-01-04 00:00:00 UTC</td>\n      <td>1</td>\n      <td>NaN</td>\n      <td>NaN</td>\n      <td>NaN</td>\n      <td>NaN</td>\n      <td>0.0</td>\n      <td>56.2</td>\n      <td>55.627852</td>\n      <td>0.57</td>\n      <td>1.02</td>\n      <td>2</td>\n      <td>1210767</td>\n      <td>13.20785</td>\n    </tr>\n    <tr>\n      <th>1</th>\n      <td>SE031G216</td>\n      <td>2019-01-04 00:00:00 UTC</td>\n      <td>2</td>\n      <td>NaN</td>\n      <td>NaN</td>\n      <td>NaN</td>\n      <td>NaN</td>\n      <td>0.0</td>\n      <td>56.2</td>\n      <td>55.376645</td>\n      <td>0.82</td>\n      <td>1.48</td>\n      <td>2</td>\n      <td>113232</td>\n      <td>13.20785</td>\n    </tr>\n    <tr>\n      <th>2</th>\n      <td>SE031G216</td>\n      <td>2019-01-04 00:00:00 UTC</td>\n      <td>3</td>\n      <td>NaN</td>\n      <td>NaN</td>\n      <td>NaN</td>\n      <td>NaN</td>\n      <td>0.0</td>\n      <td>56.2</td>\n      <td>59.531891</td>\n      <td>-3.33</td>\n      <td>-5.59</td>\n      <td>2</td>\n      <td>1089415</td>\n      <td>13.20785</td>\n    </tr>\n    <tr>\n      <th>3</th>\n      <td>SE031G216</td>\n      <td>2019-01-04 00:00:00 UTC</td>\n      <td>4</td>\n      <td>NaN</td>\n      <td>NaN</td>\n      <td>NaN</td>\n      <td>NaN</td>\n      <td>0.0</td>\n      <td>56.2</td>\n      <td>174.378923</td>\n      <td>-118.18</td>\n      <td>-67.77</td>\n      <td>2</td>\n      <td>1096867</td>\n      <td>13.20785</td>\n    </tr>\n    <tr>\n      <th>4</th>\n      <td>SE031G216</td>\n      <td>2019-01-04 00:00:00 UTC</td>\n      <td>5</td>\n      <td>NaN</td>\n      <td>NaN</td>\n      <td>NaN</td>\n      <td>NaN</td>\n      <td>0.0</td>\n      <td>56.2</td>\n      <td>172.820310</td>\n      <td>-116.62</td>\n      <td>-67.48</td>\n      <td>2</td>\n      <td>1071851</td>\n      <td>13.20785</td>\n    </tr>\n  </tbody>\n</table>\n</div>"
     },
     "metadata": {},
     "execution_count": 14
    }
   ],
   "source": [
    "base.head()"
   ]
  },
  {
   "cell_type": "code",
   "execution_count": 12,
   "metadata": {},
   "outputs": [
    {
     "output_type": "execute_result",
     "data": {
      "text/plain": "  mnemotecnico_barra                        nombre_barra       fecha  hora  \\\n0  BA01T002SE002T002  BA S/E ALTO JAHUEL 110KV SECCION 1  2019-01-01     1   \n1  BA01T002SE002T002  BA S/E ALTO JAHUEL 110KV SECCION 1  2019-01-01     2   \n2  BA01T002SE002T002  BA S/E ALTO JAHUEL 110KV SECCION 1  2019-01-01     3   \n3  BA01T002SE002T002  BA S/E ALTO JAHUEL 110KV SECCION 1  2019-01-01     4   \n4  BA01T002SE002T002  BA S/E ALTO JAHUEL 110KV SECCION 1  2019-01-01     5   \n\n       costo  \n0  49.897334  \n1  50.471616  \n2  50.077821  \n3  49.796216  \n4  49.796216  ",
      "text/html": "<div>\n<style scoped>\n    .dataframe tbody tr th:only-of-type {\n        vertical-align: middle;\n    }\n\n    .dataframe tbody tr th {\n        vertical-align: top;\n    }\n\n    .dataframe thead th {\n        text-align: right;\n    }\n</style>\n<table border=\"1\" class=\"dataframe\">\n  <thead>\n    <tr style=\"text-align: right;\">\n      <th></th>\n      <th>mnemotecnico_barra</th>\n      <th>nombre_barra</th>\n      <th>fecha</th>\n      <th>hora</th>\n      <th>costo</th>\n    </tr>\n  </thead>\n  <tbody>\n    <tr>\n      <th>0</th>\n      <td>BA01T002SE002T002</td>\n      <td>BA S/E ALTO JAHUEL 110KV SECCION 1</td>\n      <td>2019-01-01</td>\n      <td>1</td>\n      <td>49.897334</td>\n    </tr>\n    <tr>\n      <th>1</th>\n      <td>BA01T002SE002T002</td>\n      <td>BA S/E ALTO JAHUEL 110KV SECCION 1</td>\n      <td>2019-01-01</td>\n      <td>2</td>\n      <td>50.471616</td>\n    </tr>\n    <tr>\n      <th>2</th>\n      <td>BA01T002SE002T002</td>\n      <td>BA S/E ALTO JAHUEL 110KV SECCION 1</td>\n      <td>2019-01-01</td>\n      <td>3</td>\n      <td>50.077821</td>\n    </tr>\n    <tr>\n      <th>3</th>\n      <td>BA01T002SE002T002</td>\n      <td>BA S/E ALTO JAHUEL 110KV SECCION 1</td>\n      <td>2019-01-01</td>\n      <td>4</td>\n      <td>49.796216</td>\n    </tr>\n    <tr>\n      <th>4</th>\n      <td>BA01T002SE002T002</td>\n      <td>BA S/E ALTO JAHUEL 110KV SECCION 1</td>\n      <td>2019-01-01</td>\n      <td>5</td>\n      <td>49.796216</td>\n    </tr>\n  </tbody>\n</table>\n</div>"
     },
     "metadata": {},
     "execution_count": 12
    }
   ],
   "source": [
    "cmg_prod.head()"
   ]
  },
  {
   "cell_type": "code",
   "execution_count": 13,
   "metadata": {},
   "outputs": [
    {
     "output_type": "execute_result",
     "data": {
      "text/plain": "  barra_mnemotecnico barra_referencia_mnemotecnico       fecha  hora  \\\n0  BA01T005SE075T005             BA02T002SE032T002  2019-04-06    25   \n1  BA01T005SE175T005             BA02T002SE032T002  2019-04-06    25   \n2  BA03R002SE002R002             BA02T002SE032T002  2019-04-06    25   \n3  BA01R002SE012R002             BA02T002SE032T002  2019-04-06    25   \n4  BA03R002SE013R002             BA02T002SE032T002  2019-04-06    25   \n\n   costo_en_dolares  costo_en_pesos  \\\n0             62.24        41.47176   \n1             62.56        41.68498   \n2             60.04        40.00585   \n3             61.65        41.07863   \n4             59.55        39.67936   \n\n                                           nombre  \n0                              BA S/E LORETO 15KV  \n1                            BA S/E RETIRO 13.2KV  \n2                    BA S/E ALTAMIRANO 12.5KV BP1  \n3                         BA S/E CURACAVI 44KV B1  \n4  BA S/E EL MANZANO (ENEL DISTRIBUCIÓN) 23KV BP1  ",
      "text/html": "<div>\n<style scoped>\n    .dataframe tbody tr th:only-of-type {\n        vertical-align: middle;\n    }\n\n    .dataframe tbody tr th {\n        vertical-align: top;\n    }\n\n    .dataframe thead th {\n        text-align: right;\n    }\n</style>\n<table border=\"1\" class=\"dataframe\">\n  <thead>\n    <tr style=\"text-align: right;\">\n      <th></th>\n      <th>barra_mnemotecnico</th>\n      <th>barra_referencia_mnemotecnico</th>\n      <th>fecha</th>\n      <th>hora</th>\n      <th>costo_en_dolares</th>\n      <th>costo_en_pesos</th>\n      <th>nombre</th>\n    </tr>\n  </thead>\n  <tbody>\n    <tr>\n      <th>0</th>\n      <td>BA01T005SE075T005</td>\n      <td>BA02T002SE032T002</td>\n      <td>2019-04-06</td>\n      <td>25</td>\n      <td>62.24</td>\n      <td>41.47176</td>\n      <td>BA S/E LORETO 15KV</td>\n    </tr>\n    <tr>\n      <th>1</th>\n      <td>BA01T005SE175T005</td>\n      <td>BA02T002SE032T002</td>\n      <td>2019-04-06</td>\n      <td>25</td>\n      <td>62.56</td>\n      <td>41.68498</td>\n      <td>BA S/E RETIRO 13.2KV</td>\n    </tr>\n    <tr>\n      <th>2</th>\n      <td>BA03R002SE002R002</td>\n      <td>BA02T002SE032T002</td>\n      <td>2019-04-06</td>\n      <td>25</td>\n      <td>60.04</td>\n      <td>40.00585</td>\n      <td>BA S/E ALTAMIRANO 12.5KV BP1</td>\n    </tr>\n    <tr>\n      <th>3</th>\n      <td>BA01R002SE012R002</td>\n      <td>BA02T002SE032T002</td>\n      <td>2019-04-06</td>\n      <td>25</td>\n      <td>61.65</td>\n      <td>41.07863</td>\n      <td>BA S/E CURACAVI 44KV B1</td>\n    </tr>\n    <tr>\n      <th>4</th>\n      <td>BA03R002SE013R002</td>\n      <td>BA02T002SE032T002</td>\n      <td>2019-04-06</td>\n      <td>25</td>\n      <td>59.55</td>\n      <td>39.67936</td>\n      <td>BA S/E EL MANZANO (ENEL DISTRIBUCIÓN) 23KV BP1</td>\n    </tr>\n  </tbody>\n</table>\n</div>"
     },
     "metadata": {},
     "execution_count": 13
    }
   ],
   "source": [
    "cmg_real.head()"
   ]
  },
  {
   "cell_type": "code",
   "execution_count": 15,
   "metadata": {},
   "outputs": [
    {
     "output_type": "execute_result",
     "data": {
      "text/plain": "Index(['int64_field_0', 'barra_mnemotecnico', 'barra_nombre',\n       'suministrador_mnemotecnico', 'suministrador_nombre',\n       'propietario_mnemotecnico', 'propietario_nombre',\n       'cliente_mnemotecnico', 'cliente_nombre', 'retiro_ajustado',\n       'retiro_ajustado_valorizado', 'fecha', 'hora'],\n      dtype='object')"
     },
     "metadata": {},
     "execution_count": 15
    }
   ],
   "source": [
    "dem.columns"
   ]
  },
  {
   "cell_type": "code",
   "execution_count": null,
   "metadata": {},
   "outputs": [],
   "source": []
  }
 ]
}